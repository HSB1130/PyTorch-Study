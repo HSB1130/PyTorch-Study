{
 "cells": [
  {
   "cell_type": "code",
   "execution_count": 1,
   "metadata": {},
   "outputs": [],
   "source": [
    "import torch\n",
    "from torch import nn"
   ]
  },
  {
   "cell_type": "code",
   "execution_count": 7,
   "metadata": {},
   "outputs": [
    {
     "name": "stdout",
     "output_type": "stream",
     "text": [
      "tensor([[ 1.0245, -1.0011,  0.1725,  2.1810,  0.3666, -1.2172,  1.7426],\n",
      "        [ 0.2090, -1.1235, -0.3705, -0.0974, -0.9140,  0.8615, -0.0692],\n",
      "        [ 1.5135, -0.4935,  2.1390, -0.4448, -0.3071,  0.2593,  1.0153]])\n",
      "tensor([[1.0245, 0.0000, 0.1725, 2.1810, 0.3666, 0.0000, 1.7426],\n",
      "        [0.2090, 0.0000, 0.0000, 0.0000, 0.0000, 0.8615, 0.0000],\n",
      "        [1.5135, 0.0000, 2.1390, 0.0000, 0.0000, 0.2593, 1.0153]])\n"
     ]
    }
   ],
   "source": [
    "x = torch.randn(3, 7)\n",
    "relu_layer = nn.ReLU()\n",
    "\n",
    "print(x)\n",
    "print(relu_layer(x))"
   ]
  },
  {
   "cell_type": "code",
   "execution_count": 8,
   "metadata": {},
   "outputs": [
    {
     "name": "stdout",
     "output_type": "stream",
     "text": [
      "tensor([[ 1.5115,  0.2760,  0.1465, -0.4625,  0.0029],\n",
      "        [-0.8595, -1.7360, -0.0095,  0.8416, -0.3051],\n",
      "        [ 0.2812, -0.0274,  0.1484,  0.2267,  0.1550]])\n",
      "tensor([[ 2.1593,  0.3943,  0.2093, -0.0000,  0.0041],\n",
      "        [-0.0000, -2.4800, -0.0000,  0.0000, -0.4358],\n",
      "        [ 0.0000, -0.0391,  0.2121,  0.3238,  0.0000]])\n"
     ]
    }
   ],
   "source": [
    "x = torch.randn(3, 5)\n",
    "drop_layer = nn.Dropout(p=0.3) # 죽일 확률\n",
    "\n",
    "print(x)\n",
    "print(drop_layer(x)) # data 각각마다 drop할지 결정 (epoch, batch 아님)"
   ]
  },
  {
   "cell_type": "code",
   "execution_count": 11,
   "metadata": {},
   "outputs": [
    {
     "name": "stdout",
     "output_type": "stream",
     "text": [
      "tensor([[-1.1938,  0.0000, -0.0000, -0.5976, -1.6976],\n",
      "        [ 0.2718,  0.8132, -0.2879, -0.8741, -0.4319]], grad_fn=<MulBackward0>)\n",
      "tensor([[-0.8357,  0.3139, -0.5737, -0.4183, -1.1883],\n",
      "        [ 0.1903,  0.5692, -0.2015, -0.6119, -0.3023]],\n",
      "       grad_fn=<AddmmBackward0>)\n"
     ]
    }
   ],
   "source": [
    "class DropOutMLP(nn.Module):\n",
    "    def __init__(self):\n",
    "        super().__init__()\n",
    "\n",
    "        self.layer = nn.Sequential(\n",
    "            nn.Linear(3, 5),\n",
    "            nn.Dropout(p=0.3)\n",
    "        )\n",
    "    \n",
    "    def forward(self, x):\n",
    "        return self.layer(x)\n",
    "\n",
    "x= torch.randn(2, 3)\n",
    "model = DropOutMLP()\n",
    "\n",
    "model.train()\n",
    "print(model(x))\n",
    "\n",
    "model.eval() # 값에 살릴 확률인 0.7이 곱해진다.\n",
    "print(model(x))"
   ]
  },
  {
   "cell_type": "code",
   "execution_count": 15,
   "metadata": {},
   "outputs": [
    {
     "name": "stdout",
     "output_type": "stream",
     "text": [
      "torch.Size([3, 98, 98])\n"
     ]
    }
   ],
   "source": [
    "x = torch.randn(1, 100, 100) #채 행 열\n",
    "conv_layer = nn.Conv2d(in_channels=1, out_channels=3, kernel_size=3)\n",
    "\n",
    "output = conv_layer(x)\n",
    "print(output.shape) # (3, 98, 98) (채 행 열)"
   ]
  },
  {
   "cell_type": "code",
   "execution_count": 19,
   "metadata": {},
   "outputs": [
    {
     "name": "stdout",
     "output_type": "stream",
     "text": [
      "torch.Size([32, 3, 98, 98])\n",
      "torch.Size([3, 1, 3, 3])\n"
     ]
    }
   ],
   "source": [
    "x = torch.randn(32, 1, 100, 100) # (개 채 행 열)\n",
    "conv_layer = nn.Conv2d(in_channels=1, out_channels=3, kernel_size=3)\n",
    "\n",
    "output = conv_layer(x)\n",
    "print(output.shape) # (32, 3, 98, 98) (개 채 행 열)\n",
    "print(conv_layer.weight.shape)"
   ]
  },
  {
   "cell_type": "code",
   "execution_count": 17,
   "metadata": {},
   "outputs": [
    {
     "name": "stdout",
     "output_type": "stream",
     "text": [
      "torch.Size([32, 3, 100, 100])\n"
     ]
    }
   ],
   "source": [
    "x = torch.randn(32, 1, 100, 100) # (개 채 행 열)\n",
    "conv_layer = nn.Conv2d(in_channels=1, out_channels=3, kernel_size=3, padding=1)\n",
    "\n",
    "output = conv_layer(x)\n",
    "print(output.shape) # (32, 3, 100, 100) (개 채 행 열)"
   ]
  },
  {
   "cell_type": "code",
   "execution_count": 22,
   "metadata": {},
   "outputs": [
    {
     "name": "stdout",
     "output_type": "stream",
     "text": [
      "torch.Size([10, 5, 3, 3])\n",
      "torch.Size([10])\n"
     ]
    }
   ],
   "source": [
    "layer = nn.Conv2d(5, 10, 3)\n",
    "print(layer.weight.shape) # (10, 5, 3, 3)\n",
    "print(layer.bias.shape) # (10,)"
   ]
  },
  {
   "cell_type": "code",
   "execution_count": 26,
   "metadata": {},
   "outputs": [
    {
     "name": "stdout",
     "output_type": "stream",
     "text": [
      "torch.Size([32, 10, 100, 100])\n",
      "torch.Size([32, 20, 100, 100])\n",
      "torch.Size([32, 20, 50, 50])\n"
     ]
    }
   ],
   "source": [
    "x = torch.randn(32, 3, 100, 100)\n",
    "conv1 = nn.Conv2d(3, 10, 3, padding=1)\n",
    "\n",
    "x = conv1(x)\n",
    "print(x.shape) # (32, 10, 100, 100)\n",
    "\n",
    "conv2 = nn.Conv2d(10, 20, 3, padding=1)\n",
    "x = conv2(x)\n",
    "print(x.shape) # (32, 20, 100, 100)\n",
    "\n",
    "maxpool = nn.MaxPool2d(kernel_size=2, stride=(2, 2))\n",
    "x = maxpool(x)\n",
    "print(x.shape) # (32, 20, 50, 50)"
   ]
  },
  {
   "cell_type": "code",
   "execution_count": null,
   "metadata": {},
   "outputs": [],
   "source": []
  }
 ],
 "metadata": {
  "kernelspec": {
   "display_name": "pytorch",
   "language": "python",
   "name": "python3"
  },
  "language_info": {
   "codemirror_mode": {
    "name": "ipython",
    "version": 3
   },
   "file_extension": ".py",
   "mimetype": "text/x-python",
   "name": "python",
   "nbconvert_exporter": "python",
   "pygments_lexer": "ipython3",
   "version": "3.12.2"
  }
 },
 "nbformat": 4,
 "nbformat_minor": 2
}
