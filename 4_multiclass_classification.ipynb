{
 "cells": [
  {
   "cell_type": "code",
   "execution_count": 1,
   "metadata": {},
   "outputs": [],
   "source": [
    "import torch\n",
    "from torch import nn, optim\n",
    "from torch.utils.data import Dataset, DataLoader\n",
    "from torchvision import datasets, transforms\n",
    "import matplotlib.pyplot as plt"
   ]
  },
  {
   "cell_type": "code",
   "execution_count": 2,
   "metadata": {},
   "outputs": [
    {
     "name": "stdout",
     "output_type": "stream",
     "text": [
      "Dataset MNIST\n",
      "    Number of datapoints: 60000\n",
      "    Root location: ./dataset\n",
      "    Split: Train\n",
      "    StandardTransform\n",
      "Transform: ToTensor()\n",
      "\n",
      "Dataset MNIST\n",
      "    Number of datapoints: 10000\n",
      "    Root location: ./dataset\n",
      "    Split: Test\n",
      "    StandardTransform\n",
      "Transform: ToTensor()\n"
     ]
    }
   ],
   "source": [
    "trainsform = transforms.ToTensor()\n",
    "train_DT = datasets.MNIST(root='./dataset', train=True, transform=trainsform, download=True)\n",
    "test_DT = datasets.MNIST(root='./dataset', train=False, transform=trainsform, download=True)\n",
    "\n",
    "print(train_DT, end='\\n\\n')\n",
    "print(test_DT)"
   ]
  },
  {
   "cell_type": "code",
   "execution_count": 3,
   "metadata": {},
   "outputs": [
    {
     "name": "stdout",
     "output_type": "stream",
     "text": [
      "torch.Size([60000, 28, 28]) torch.Size([60000])\n",
      "torch.Size([10000, 28, 28]) torch.Size([10000])\n"
     ]
    }
   ],
   "source": [
    "train_data = train_DT.data / 255.0\n",
    "train_label = train_DT.targets\n",
    "\n",
    "test_data = test_DT.data / 255.0\n",
    "test_label = test_DT.targets\n",
    "\n",
    "print(train_data.shape, train_label.shape)\n",
    "print(test_data.shape, test_label.shape)"
   ]
  },
  {
   "cell_type": "code",
   "execution_count": 4,
   "metadata": {},
   "outputs": [],
   "source": [
    "class CustomDataset(Dataset):\n",
    "    def __init__(self, data, label):\n",
    "        self.x = data\n",
    "        self.y = label\n",
    "    \n",
    "    def __len__(self):\n",
    "        return len(self.y)\n",
    "    \n",
    "    def __getitem__(self, index):\n",
    "        return self.x[index], self.y[index]\n",
    "    \n",
    "train_dataset = CustomDataset(train_data, train_label)\n",
    "test_dataset = CustomDataset(test_data, test_label)\n",
    "\n",
    "train_dataloader = DataLoader(dataset=train_dataset, batch_size=32, shuffle=True, drop_last=True)\n",
    "test_dataloader = DataLoader(dataset=test_dataset, batch_size=32, shuffle=True, drop_last=True)"
   ]
  },
  {
   "cell_type": "code",
   "execution_count": 5,
   "metadata": {},
   "outputs": [],
   "source": [
    "class MLP(nn.Module):\n",
    "    def __init__(self):\n",
    "        super().__init__()\n",
    "\n",
    "        self.layer1 = nn.Sequential(\n",
    "            nn.Linear(28*28, 100),\n",
    "            nn.ReLU(),\n",
    "        )\n",
    "\n",
    "        self.layer2 = nn.Sequential(\n",
    "            nn.Linear(100, 10),\n",
    "        )\n",
    "    \n",
    "    def forward(self, x):\n",
    "        x = torch.flatten(x, start_dim=1)\n",
    "        x = self.layer1(x)\n",
    "        x = self.layer2(x)\n",
    "        return x"
   ]
  },
  {
   "cell_type": "code",
   "execution_count": 6,
   "metadata": {},
   "outputs": [
    {
     "name": "stdout",
     "output_type": "stream",
     "text": [
      "Epoch: 1  Loss:0.31104316440820695\n",
      "Epoch: 2  Loss:0.13957471993764242\n",
      "Epoch: 3  Loss:0.09529431306943298\n",
      "Epoch: 4  Loss:0.07306187768653036\n",
      "Epoch: 5  Loss:0.05650138419736177\n",
      "Epoch: 6  Loss:0.046470768368119995\n",
      "Epoch: 7  Loss:0.03697056263747315\n",
      "Epoch: 8  Loss:0.030974707779986784\n",
      "Epoch: 9  Loss:0.025783454309310765\n",
      "Epoch:10  Loss:0.02229491230455848\n",
      "Epoch:11  Loss:0.018659527949499898\n",
      "Epoch:12  Loss:0.014580753303761594\n",
      "Epoch:13  Loss:0.013462456142363953\n",
      "Epoch:14  Loss:0.010644553127968295\n",
      "Epoch:15  Loss:0.011634457546010769\n",
      "Epoch:16  Loss:0.00873941863647633\n",
      "Epoch:17  Loss:0.008147195462366896\n",
      "Epoch:18  Loss:0.007579406983808924\n",
      "Epoch:19  Loss:0.00744788268702226\n",
      "Epoch:20  Loss:0.00604769600857641\n",
      "Epoch:21  Loss:0.006354430030638711\n",
      "Epoch:22  Loss:0.005803286390032129\n",
      "Epoch:23  Loss:0.004920243848055058\n",
      "Epoch:24  Loss:0.005580211736398996\n",
      "Epoch:25  Loss:0.0031666502922874846\n",
      "Epoch:26  Loss:0.005099552769487461\n",
      "Epoch:27  Loss:0.004605878769985581\n",
      "Epoch:28  Loss:0.004086505901837154\n",
      "Epoch:29  Loss:0.004318661421814916\n",
      "Epoch:30  Loss:0.0032239711958916436\n",
      "Epoch:31  Loss:0.0047379360214655645\n",
      "Epoch:32  Loss:0.002795392242195991\n",
      "Epoch:33  Loss:0.0048407010472125405\n",
      "Epoch:34  Loss:0.002389451666497329\n",
      "Epoch:35  Loss:0.0029865848082625784\n",
      "Epoch:36  Loss:0.004757624344485534\n",
      "Epoch:37  Loss:0.002679659935885032\n",
      "Epoch:38  Loss:0.002042536772090142\n",
      "Epoch:39  Loss:0.00430297472487372\n",
      "Epoch:40  Loss:0.0027173220160784575\n",
      "Epoch:41  Loss:0.003890656961071206\n",
      "Epoch:42  Loss:0.0034218013871128157\n",
      "Epoch:43  Loss:0.002594648789188658\n",
      "Epoch:44  Loss:0.00355378269839681\n",
      "Epoch:45  Loss:0.0007588739176621644\n",
      "Epoch:46  Loss:0.005078693427352586\n",
      "Epoch:47  Loss:0.0014861477067320402\n",
      "Epoch:48  Loss:0.00496813813080827\n",
      "Epoch:49  Loss:0.001939671011117329\n",
      "Epoch:50  Loss:0.003824092416933596\n"
     ]
    },
    {
     "data": {
      "text/plain": [
       "[<matplotlib.lines.Line2D at 0x2b238adc530>]"
      ]
     },
     "execution_count": 6,
     "metadata": {},
     "output_type": "execute_result"
    },
    {
     "data": {
      "image/png": "[encoded data removed]",
      "text/plain": [
       "<Figure size 640x480 with 1 Axes>"
      ]
     },
     "metadata": {},
     "output_type": "display_data"
    }
   ],
   "source": [
    "device = 'cuda' if torch.cuda.is_available else 'cpu'\n",
    "device = 'cpu'\n",
    "\n",
    "model = MLP().to(device)\n",
    "criterion = nn.CrossEntropyLoss().to(device)\n",
    "optimizer = optim.Adam(params=model.parameters(), lr=0.001)\n",
    "\n",
    "model.train()\n",
    "loss_history = []\n",
    "\n",
    "for epoch in range(50):\n",
    "    cost = 0.0\n",
    "\n",
    "    for x, y in train_dataloader:\n",
    "        x = x.to(device)\n",
    "        y = y.to(device)\n",
    "\n",
    "        output = model(x)\n",
    "        loss = criterion(output, y)\n",
    "\n",
    "        optimizer.zero_grad()\n",
    "        loss.backward()\n",
    "        optimizer.step()\n",
    "\n",
    "        cost += loss.item()\n",
    "    \n",
    "    cost = cost / len(train_dataloader)\n",
    "    loss_history.append(cost)\n",
    "    print(f'Epoch:{epoch+1:2}  Loss:{cost}')\n",
    "\n",
    "plt.plot(loss_history)"
   ]
  },
  {
   "cell_type": "code",
   "execution_count": 117,
   "metadata": {},
   "outputs": [
    {
     "name": "stdout",
     "output_type": "stream",
     "text": [
      "tensor([1, 2, 2, 4])\n",
      "tensor([[ 0.2332, -0.5665, -0.7956, -0.4474,  0.5677, -1.4139],\n",
      "        [ 0.3397, -0.9737, -1.6236, -1.1340, -0.3821,  0.9760],\n",
      "        [-0.1845,  0.7167,  0.1881,  0.7169, -0.5141,  0.5746],\n",
      "        [-0.8819, -0.1925,  2.1701, -0.0251,  1.6481,  0.6493]])\n",
      "loss_1 : 2.178593397140503\n",
      "\n",
      "tensor([[0.2562, 0.1152, 0.0916, 0.1297, 0.3580, 0.0493],\n",
      "        [0.2492, 0.0670, 0.0350, 0.0571, 0.1211, 0.4707],\n",
      "        [0.0977, 0.2407, 0.1418, 0.2407, 0.0703, 0.2088],\n",
      "        [0.0229, 0.0456, 0.4843, 0.0539, 0.2874, 0.1058]])\n",
      "tensor([[0, 1, 0, 0, 0, 0],\n",
      "        [0, 0, 1, 0, 0, 0],\n",
      "        [0, 0, 1, 0, 0, 0],\n",
      "        [0, 0, 0, 0, 1, 0]])\n",
      "tensor(2.1786)\n"
     ]
    }
   ],
   "source": [
    "y = torch.randint(6, (4,))\n",
    "y_pred = torch.randn(4, 6)\n",
    "\n",
    "print(y)\n",
    "print(y_pred)\n",
    "\n",
    "# Method 1\n",
    "criterion = nn.CrossEntropyLoss()\n",
    "loss_1 = criterion(y_pred, y)\n",
    "print(f'loss_1 : {loss_1}', end='\\n\\n')\n",
    "\n",
    "\n",
    "# Method 2\n",
    "softmax = nn.Softmax(dim=1)\n",
    "y_pred_softmax = softmax(y_pred)\n",
    "print(y_pred_softmax)\n",
    "\n",
    "y_one_hot = torch.nn.functional.one_hot(y, num_classes=6)\n",
    "print(y_one_hot)\n",
    "\n",
    "cross_entropy = -1 * y_one_hot * torch.log(y_pred_softmax)\n",
    "print(torch.sum(cross_entropy) / len(y))"
   ]
  },
  {
   "cell_type": "code",
   "execution_count": 30,
   "metadata": {},
   "outputs": [
    {
     "data": {
      "text/plain": [
       "<All keys matched successfully>"
      ]
     },
     "execution_count": 30,
     "metadata": {},
     "output_type": "execute_result"
    }
   ],
   "source": [
    "# 모델 save\n",
    "save_model_path = './model/MLP_MNIST.pt'\n",
    "torch.save(model.state_dict(), save_model_path)\n",
    "\n",
    "# model load\n",
    "load_model = MLP().to(device)\n",
    "load_model.load_state_dict(torch.load(save_model_path, map_location=device))"
   ]
  },
  {
   "cell_type": "code",
   "execution_count": 29,
   "metadata": {},
   "outputs": [
    {
     "name": "stdout",
     "output_type": "stream",
     "text": [
      "Correct : 9745\n",
      "Wrong   : 239\n",
      "Accuracy : 97.61%\n"
     ]
    }
   ],
   "source": [
    "# model test\n",
    "correct = 0\n",
    "wrong = 0\n",
    "\n",
    "with torch.no_grad():\n",
    "    model.eval()\n",
    "\n",
    "    for test_x, test_y in test_dataloader:\n",
    "        test_x = test_x.to(device)\n",
    "        test_y = test_y.to(device)\n",
    "\n",
    "        # accuracy 측정\n",
    "        y_pred = model(test_x)\n",
    "        \n",
    "        for idx in range(len(test_y)):\n",
    "            if torch.argmax(y_pred, dim=1)[idx] == test_y[idx]:\n",
    "                correct += 1\n",
    "            else:\n",
    "                wrong += 1\n",
    "\n",
    "    print(f'Correct : {correct}')\n",
    "    print(f'Wrong   : {wrong}')\n",
    "    print(f'Accuracy : {round(correct/(correct+wrong) * 100, 2)}%')"
   ]
  },
  {
   "cell_type": "code",
   "execution_count": null,
   "metadata": {},
   "outputs": [],
   "source": []
  }
 ],
 "metadata": {
  "kernelspec": {
   "display_name": "pytorch",
   "language": "python",
   "name": "python3"
  },
  "language_info": {
   "codemirror_mode": {
    "name": "ipython",
    "version": 3
   },
   "file_extension": ".py",
   "mimetype": "text/x-python",
   "name": "python",
   "nbconvert_exporter": "python",
   "pygments_lexer": "ipython3",
   "version": "3.12.2"
  }
 },
 "nbformat": 4,
 "nbformat_minor": 2
}
