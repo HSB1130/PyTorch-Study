{
 "cells": [
  {
   "cell_type": "markdown",
   "metadata": {},
   "source": [
    "### Pytorch의 autograd"
   ]
  },
  {
   "cell_type": "code",
   "execution_count": 2,
   "metadata": {},
   "outputs": [
    {
     "name": "stdout",
     "output_type": "stream",
     "text": [
      "tensor([9.], grad_fn=<PowBackward0>)\n",
      "tensor([6.])\n"
     ]
    }
   ],
   "source": [
    "import torch\n",
    "\n",
    "x = torch.tensor([3.0], requires_grad=True)\n",
    "\n",
    "y = x**2\n",
    "print(y)\n",
    "\n",
    "y.backward() # 미분의 결과를 x.grad에 넣어준다.\n",
    "print(x.grad)"
   ]
  },
  {
   "cell_type": "code",
   "execution_count": 3,
   "metadata": {},
   "outputs": [
    {
     "name": "stdout",
     "output_type": "stream",
     "text": [
      "tensor([9.], grad_fn=<PowBackward0>)\n",
      "tensor([6.])\n"
     ]
    }
   ],
   "source": [
    "x = torch.tensor([3.0], requires_grad=True)\n",
    "\n",
    "y = x**2\n",
    "print(y)\n",
    "\n",
    "y.backward() # 미분의 결과를 x.grad에 넣어준다.\n",
    "print(x.grad)"
   ]
  },
  {
   "cell_type": "code",
   "execution_count": 4,
   "metadata": {},
   "outputs": [
    {
     "name": "stdout",
     "output_type": "stream",
     "text": [
      "tensor([18.])\n"
     ]
    }
   ],
   "source": [
    "x = torch.tensor([3.0], requires_grad=True)\n",
    "\n",
    "y = x**2\n",
    "z = 3*y\n",
    "\n",
    "z.backward() # 미분의 결과를 x.grad에 넣어준다.\n",
    "print(x.grad)"
   ]
  },
  {
   "cell_type": "code",
   "execution_count": 5,
   "metadata": {},
   "outputs": [
    {
     "name": "stdout",
     "output_type": "stream",
     "text": [
      "tensor([6.])\n"
     ]
    }
   ],
   "source": [
    "x = torch.tensor([3.0], requires_grad=True)\n",
    "\n",
    "a = x**2\n",
    "b = a+1\n",
    "\n",
    "b.backward()\n",
    "print(x.grad)"
   ]
  },
  {
   "cell_type": "code",
   "execution_count": 6,
   "metadata": {},
   "outputs": [
    {
     "name": "stdout",
     "output_type": "stream",
     "text": [
      "tensor([120.])\n"
     ]
    }
   ],
   "source": [
    "x = torch.tensor([3.0], requires_grad=True)\n",
    "\n",
    "a = x**2\n",
    "b = a+1\n",
    "c = b**2\n",
    "\n",
    "# 2b*1*2x = 2*10*1*2*3 = 120\n",
    "c.backward()\n",
    "print(x.grad)"
   ]
  },
  {
   "cell_type": "code",
   "execution_count": 7,
   "metadata": {},
   "outputs": [
    {
     "name": "stdout",
     "output_type": "stream",
     "text": [
      "tensor([12.])\n",
      "tensor([4.])\n"
     ]
    }
   ],
   "source": [
    "x = torch.tensor([3.0], requires_grad=True)\n",
    "y = torch.tensor([2.0], requires_grad=True)\n",
    "\n",
    "z = 2*x**2 + y**2\n",
    "\n",
    "z.backward()\n",
    "\n",
    "# 편미분\n",
    "print(x.grad) # 4x = 12\n",
    "print(y.grad) # 2y = 4"
   ]
  },
  {
   "cell_type": "code",
   "execution_count": 8,
   "metadata": {},
   "outputs": [
    {
     "name": "stdout",
     "output_type": "stream",
     "text": [
      "tensor([12., 18., 24.])\n"
     ]
    }
   ],
   "source": [
    "x = torch.tensor([2.0, 3.0, 4.0], requires_grad=True)\n",
    "y = torch.sum(3*x**2)\n",
    "\n",
    "y.backward()\n",
    "print(x.grad)"
   ]
  },
  {
   "cell_type": "code",
   "execution_count": 9,
   "metadata": {},
   "outputs": [
    {
     "name": "stdout",
     "output_type": "stream",
     "text": [
      "tensor([1.3333, 2.0000, 2.6667])\n"
     ]
    }
   ],
   "source": [
    "x = torch.tensor([2.0, 3.0, 4.0], requires_grad=True)\n",
    "y = torch.mean(x**2)\n",
    "\n",
    "y.backward()\n",
    "print(x.grad)"
   ]
  },
  {
   "cell_type": "code",
   "execution_count": null,
   "metadata": {},
   "outputs": [],
   "source": []
  }
 ],
 "metadata": {
  "kernelspec": {
   "display_name": "pytorch",
   "language": "python",
   "name": "python3"
  },
  "language_info": {
   "codemirror_mode": {
    "name": "ipython",
    "version": 3
   },
   "file_extension": ".py",
   "mimetype": "text/x-python",
   "name": "python",
   "nbconvert_exporter": "python",
   "pygments_lexer": "ipython3",
   "version": "3.12.2"
  }
 },
 "nbformat": 4,
 "nbformat_minor": 2
}
