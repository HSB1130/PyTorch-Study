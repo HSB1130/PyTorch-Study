{
 "cells": [
  {
   "cell_type": "markdown",
   "metadata": {},
   "source": [
    "### Simple Linear Neural Network"
   ]
  },
  {
   "cell_type": "code",
   "execution_count": 19,
   "metadata": {},
   "outputs": [
    {
     "name": "stdout",
     "output_type": "stream",
     "text": [
      "Parameter containing:\n",
      "tensor([[-0.7998]], requires_grad=True)\n",
      "Parameter containing:\n",
      "tensor([0.3761], requires_grad=True)\n",
      "\n",
      "tensor([[-0.4237],\n",
      "        [-1.2235]], grad_fn=<AddmmBackward0>)\n",
      "tensor([[-0.4237],\n",
      "        [-1.2235]], grad_fn=<AddBackward0>)\n"
     ]
    }
   ],
   "source": [
    "import torch\n",
    "from torch import nn\n",
    "\n",
    "x = torch.tensor([[1], [2]], dtype=torch.float)\n",
    "\n",
    "model = nn.Linear(1, 1)\n",
    "print(model.weight)\n",
    "print(model.bias, end='\\n\\n')\n",
    "\n",
    "output = model(x)\n",
    "print(output)\n",
    "\n",
    "output = torch.matmul(x, model.weight) + model.bias\n",
    "print(output)"
   ]
  },
  {
   "cell_type": "code",
   "execution_count": 29,
   "metadata": {},
   "outputs": [
    {
     "name": "stdout",
     "output_type": "stream",
     "text": [
      "Parameter containing:\n",
      "tensor([[ 0.3333,  0.0327, -0.5470]], requires_grad=True)\n",
      "Parameter containing:\n",
      "tensor([-0.2812], requires_grad=True)\n",
      "\n",
      "Parameter containing:\n",
      "tensor([[-0.8528],\n",
      "        [-0.4689],\n",
      "        [-0.8654]], requires_grad=True)\n",
      "Parameter containing:\n",
      "tensor([ 0.8622,  0.4143, -0.2668], requires_grad=True)\n",
      "\n",
      "tensor([-1.5236], grad_fn=<ViewBackward0>)\n",
      "tensor([-1.5236], grad_fn=<AddBackward0>)\n",
      "\n",
      "tensor([ 0.0093, -0.0546, -1.1322], grad_fn=<ViewBackward0>)\n",
      "tensor([ 0.0093, -0.0546, -1.1322], grad_fn=<AddBackward0>)\n"
     ]
    }
   ],
   "source": [
    "fc1 = nn.Linear(3, 1)\n",
    "fc2 = nn.Linear(1, 3)\n",
    "\n",
    "print(fc1.weight)\n",
    "print(fc1.bias, end='\\n\\n')\n",
    "\n",
    "print(fc2.weight)\n",
    "print(fc2.bias, end='\\n\\n')\n",
    "\n",
    "x = torch.tensor([1., 2., 3.])\n",
    "output1 = fc1(x)\n",
    "print(output1)\n",
    "\n",
    "output1_2 = torch.matmul(x, fc1.weight.T) + fc1.bias\n",
    "print(output1_2, end='\\n\\n')\n",
    "\n",
    "x = torch.tensor([1.])\n",
    "output2 = fc2(x)\n",
    "print(output2)\n",
    "\n",
    "output2_2 = torch.matmul(x, fc2.weight.T) + fc2.bias\n",
    "print(output2_2)"
   ]
  },
  {
   "cell_type": "code",
   "execution_count": 34,
   "metadata": {},
   "outputs": [
    {
     "name": "stdout",
     "output_type": "stream",
     "text": [
      "tensor([[-0.4022, -0.4297],\n",
      "        [-0.4134, -0.1090],\n",
      "        [-0.1414,  0.1632],\n",
      "        [-0.0864,  0.3043],\n",
      "        [-0.2313,  0.0289]], grad_fn=<AddmmBackward0>)\n"
     ]
    }
   ],
   "source": [
    "import torch\n",
    "from torch import nn\n",
    "\n",
    "layer = nn.Sequential(\n",
    "            nn.Linear(3, 10),\n",
    "            nn.Linear(10, 2)\n",
    "        )\n",
    "\n",
    "x = torch.randn(5, 3)\n",
    "print(layer(x))"
   ]
  },
  {
   "cell_type": "code",
   "execution_count": 70,
   "metadata": {},
   "outputs": [
    {
     "name": "stdout",
     "output_type": "stream",
     "text": [
      "tensor([[0.5758, 0.5638, 0.5112],\n",
      "        [0.5740, 0.5676, 0.5134],\n",
      "        [0.5755, 0.5645, 0.5115],\n",
      "        [0.5756, 0.5648, 0.5131],\n",
      "        [0.5740, 0.5676, 0.5134]], grad_fn=<SigmoidBackward0>)\n"
     ]
    }
   ],
   "source": [
    "import torch\n",
    "from torch import nn\n",
    "\n",
    "class CustomModel(nn.Module):\n",
    "    def __init__(self):\n",
    "        super().__init__()\n",
    "\n",
    "        self.layer1 = nn.Sequential(\n",
    "                        nn.Linear(2, 5),\n",
    "                        nn.Sigmoid())\n",
    "\n",
    "        self.layer2 = nn.Sequential(\n",
    "                        nn.Linear(5, 10),\n",
    "                        nn.Sigmoid())\n",
    "        \n",
    "        self.layer3 = nn.Sequential(\n",
    "                        nn.Linear(10, 3),\n",
    "                        nn.Sigmoid())\n",
    "\n",
    "    def forward(self, x):\n",
    "        x = self.layer1(x)\n",
    "        x = self.layer2(x)\n",
    "        x = self.layer3(x)\n",
    "        return x\n",
    "\n",
    "model = CustomModel()\n",
    "x = torch.randn(5, 2)\n",
    "output = model(x)\n",
    "print(output)"
   ]
  },
  {
   "cell_type": "code",
   "execution_count": 71,
   "metadata": {},
   "outputs": [
    {
     "name": "stdout",
     "output_type": "stream",
     "text": [
      "[Parameter containing:\n",
      "tensor([[ 0.1168, -0.3809],\n",
      "        [-0.2515, -0.6703],\n",
      "        [ 0.5749,  0.1408],\n",
      "        [ 0.2429, -0.5906],\n",
      "        [ 0.0744, -0.5383]], requires_grad=True), Parameter containing:\n",
      "tensor([ 0.0912,  0.4546,  0.3412, -0.7037, -0.0356], requires_grad=True), Parameter containing:\n",
      "tensor([[ 0.0612,  0.2181,  0.1192,  0.0938,  0.2089],\n",
      "        [-0.0974, -0.2286, -0.1097,  0.0526,  0.2807],\n",
      "        [ 0.3228,  0.0586,  0.2685, -0.4358, -0.2893],\n",
      "        [ 0.2752,  0.3000,  0.2130,  0.1380, -0.3325],\n",
      "        [-0.1186,  0.3304,  0.1666, -0.3408,  0.4132],\n",
      "        [ 0.1533, -0.3811, -0.2708,  0.2397,  0.3969],\n",
      "        [ 0.4223,  0.0592,  0.2980, -0.4051,  0.0282],\n",
      "        [-0.2962,  0.3934,  0.0282,  0.3628,  0.2609],\n",
      "        [-0.4110,  0.0996, -0.2796, -0.0783, -0.0644],\n",
      "        [ 0.1412, -0.0319, -0.1629, -0.1590, -0.2354]], requires_grad=True), Parameter containing:\n",
      "tensor([-0.2466,  0.2079,  0.3312,  0.2855,  0.3585, -0.2896,  0.2212,  0.3589,\n",
      "        -0.0120,  0.4253], requires_grad=True), Parameter containing:\n",
      "tensor([[ 0.1786, -0.0050,  0.0257,  0.2723, -0.0398,  0.2171,  0.1231, -0.1300,\n",
      "          0.2327, -0.3110],\n",
      "        [-0.2868,  0.2570,  0.2732,  0.0551,  0.0507,  0.1871,  0.1055, -0.0272,\n",
      "          0.1369,  0.2500],\n",
      "        [-0.2007,  0.2814,  0.1260,  0.1426,  0.0351,  0.0131,  0.1166, -0.1923,\n",
      "         -0.0915, -0.2690]], requires_grad=True), Parameter containing:\n",
      "tensor([ 0.0384, -0.2683,  0.0543], requires_grad=True)]\n"
     ]
    }
   ],
   "source": [
    "print(list(model.parameters()))"
   ]
  },
  {
   "cell_type": "markdown",
   "metadata": {},
   "source": [
    "### Weight Initialization"
   ]
  },
  {
   "cell_type": "code",
   "execution_count": 72,
   "metadata": {},
   "outputs": [
    {
     "name": "stdout",
     "output_type": "stream",
     "text": [
      "[Parameter containing:\n",
      "tensor([[ 0.1168, -0.3809],\n",
      "        [-0.2515, -0.6703],\n",
      "        [ 0.5749,  0.1408],\n",
      "        [ 0.2429, -0.5906],\n",
      "        [ 0.0744, -0.5383]], requires_grad=True), Parameter containing:\n",
      "tensor([ 0.0912,  0.4546,  0.3412, -0.7037, -0.0356], requires_grad=True), Parameter containing:\n",
      "tensor([[ 0.0612,  0.2181,  0.1192,  0.0938,  0.2089],\n",
      "        [-0.0974, -0.2286, -0.1097,  0.0526,  0.2807],\n",
      "        [ 0.3228,  0.0586,  0.2685, -0.4358, -0.2893],\n",
      "        [ 0.2752,  0.3000,  0.2130,  0.1380, -0.3325],\n",
      "        [-0.1186,  0.3304,  0.1666, -0.3408,  0.4132],\n",
      "        [ 0.1533, -0.3811, -0.2708,  0.2397,  0.3969],\n",
      "        [ 0.4223,  0.0592,  0.2980, -0.4051,  0.0282],\n",
      "        [-0.2962,  0.3934,  0.0282,  0.3628,  0.2609],\n",
      "        [-0.4110,  0.0996, -0.2796, -0.0783, -0.0644],\n",
      "        [ 0.1412, -0.0319, -0.1629, -0.1590, -0.2354]], requires_grad=True), Parameter containing:\n",
      "tensor([-0.2466,  0.2079,  0.3312,  0.2855,  0.3585, -0.2896,  0.2212,  0.3589,\n",
      "        -0.0120,  0.4253], requires_grad=True), Parameter containing:\n",
      "tensor([[ 0.1786, -0.0050,  0.0257,  0.2723, -0.0398,  0.2171,  0.1231, -0.1300,\n",
      "          0.2327, -0.3110],\n",
      "        [-0.2868,  0.2570,  0.2732,  0.0551,  0.0507,  0.1871,  0.1055, -0.0272,\n",
      "          0.1369,  0.2500],\n",
      "        [-0.2007,  0.2814,  0.1260,  0.1426,  0.0351,  0.0131,  0.1166, -0.1923,\n",
      "         -0.0915, -0.2690]], requires_grad=True), Parameter containing:\n",
      "tensor([ 0.0384, -0.2683,  0.0543], requires_grad=True)]\n"
     ]
    }
   ],
   "source": [
    "import torch\n",
    "from torch import nn\n",
    "\n",
    "class CustomModel(nn.Module):\n",
    "    def __init__(self):\n",
    "        super().__init__()\n",
    "\n",
    "        self.layer1 = nn.Sequential(\n",
    "                        nn.Linear(2, 5),\n",
    "                        nn.Sigmoid())\n",
    "\n",
    "        self.layer2 = nn.Sequential(\n",
    "                        nn.Linear(5, 10),\n",
    "                        nn.Sigmoid())\n",
    "        \n",
    "        self.layer3 = nn.Sequential(\n",
    "                        nn.Linear(10, 3),\n",
    "                        nn.Sigmoid())\n",
    "\n",
    "        for m in self.modules():\n",
    "            if isinstance(m, nn.Linear):\n",
    "                nn.init.xavier_normal_(m.weight.data)\n",
    "                m.bias.data.fill_(0)\n",
    "\n",
    "    def forward(self, x):\n",
    "        x = self.layer1(x)\n",
    "        x = self.layer2(x)\n",
    "        x = self.layer3(x)\n",
    "        return x\n",
    "\n",
    "print(list(model.parameters()))"
   ]
  },
  {
   "cell_type": "code",
   "execution_count": null,
   "metadata": {},
   "outputs": [],
   "source": []
  },
  {
   "cell_type": "code",
   "execution_count": null,
   "metadata": {},
   "outputs": [],
   "source": []
  },
  {
   "cell_type": "code",
   "execution_count": null,
   "metadata": {},
   "outputs": [],
   "source": []
  }
 ],
 "metadata": {
  "kernelspec": {
   "display_name": "pytorch",
   "language": "python",
   "name": "python3"
  },
  "language_info": {
   "codemirror_mode": {
    "name": "ipython",
    "version": 3
   },
   "file_extension": ".py",
   "mimetype": "text/x-python",
   "name": "python",
   "nbconvert_exporter": "python",
   "pygments_lexer": "ipython3",
   "version": "3.12.2"
  }
 },
 "nbformat": 4,
 "nbformat_minor": 2
}
