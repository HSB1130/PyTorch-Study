{
 "cells": [
  {
   "cell_type": "code",
   "execution_count": 14,
   "metadata": {},
   "outputs": [],
   "source": [
    "import torch\n",
    "from torch import nn, optim\n",
    "from torch.utils.data import Dataset, DataLoader\n",
    "from torchvision import datasets, transforms\n",
    "import matplotlib.pyplot as plt"
   ]
  },
  {
   "cell_type": "code",
   "execution_count": 15,
   "metadata": {},
   "outputs": [
    {
     "name": "stdout",
     "output_type": "stream",
     "text": [
      "Files already downloaded and verified\n",
      "Files already downloaded and verified\n",
      "Dataset CIFAR10\n",
      "    Number of datapoints: 50000\n",
      "    Root location: ./dataset\n",
      "    Split: Train\n",
      "    StandardTransform\n",
      "Transform: ToTensor()\n",
      "Dataset CIFAR10\n",
      "    Number of datapoints: 10000\n",
      "    Root location: ./dataset\n",
      "    Split: Test\n",
      "    StandardTransform\n",
      "Transform: ToTensor()\n"
     ]
    }
   ],
   "source": [
    "transform = transforms.ToTensor()\n",
    "train_DT = datasets.CIFAR10(root='./dataset', train=True, transform=transform, download=True)\n",
    "test_DT = datasets.CIFAR10(root='./dataset', train=False, transform=transform, download=True)\n",
    "\n",
    "print(train_DT)\n",
    "print(test_DT)"
   ]
  },
  {
   "cell_type": "code",
   "execution_count": 54,
   "metadata": {},
   "outputs": [
    {
     "name": "stdout",
     "output_type": "stream",
     "text": [
      "{'airplane': 0, 'automobile': 1, 'bird': 2, 'cat': 3, 'deer': 4, 'dog': 5, 'frog': 6, 'horse': 7, 'ship': 8, 'truck': 9}\n",
      "{0: 'airplane', 1: 'automobile', 2: 'bird', 3: 'cat', 4: 'deer', 5: 'dog', 6: 'frog', 7: 'horse', 8: 'ship', 9: 'truck'}\n"
     ]
    }
   ],
   "source": [
    "CLASS_TO_IDX = train_DT.class_to_idx\n",
    "IDX_TO_CLASS = {value: key for key, value in CLASS_TO_IDX.items()}\n",
    "\n",
    "print(CLASS_TO_IDX)\n",
    "print(IDX_TO_CLASS)"
   ]
  },
  {
   "cell_type": "code",
   "execution_count": 72,
   "metadata": {},
   "outputs": [],
   "source": [
    "class CustomDataset(Dataset):\n",
    "    def __init__(self, Dataset):\n",
    "        self.data = torch.tensor(Dataset.data).permute(0, 3, 1, 2) / 255.0\n",
    "        self.label = torch.tensor(Dataset.targets)\n",
    "\n",
    "    def __len__(self):\n",
    "        return len(self.data)\n",
    "    \n",
    "    def __getitem__(self, index):\n",
    "        return self.data[index], self.label[index]"
   ]
  },
  {
   "cell_type": "code",
   "execution_count": 77,
   "metadata": {},
   "outputs": [
    {
     "name": "stdout",
     "output_type": "stream",
     "text": [
      "torch.Size([64, 3, 32, 32]) torch.Size([64])\n",
      "tensor([[[0.3882, 0.4431, 0.4471,  ..., 0.4824, 0.4706, 0.4627],\n",
      "         [0.3373, 0.3490, 0.3647,  ..., 0.5020, 0.4863, 0.4745],\n",
      "         [0.5490, 0.5098, 0.5451,  ..., 0.5176, 0.5059, 0.4980],\n",
      "         ...,\n",
      "         [0.8157, 0.8039, 0.8039,  ..., 0.4196, 0.4235, 0.4353],\n",
      "         [0.8118, 0.7922, 0.7765,  ..., 0.4118, 0.3647, 0.3569],\n",
      "         [0.8000, 0.7765, 0.7725,  ..., 0.3882, 0.3529, 0.3176]],\n",
      "\n",
      "        [[0.3255, 0.3804, 0.3843,  ..., 0.4157, 0.4039, 0.3961],\n",
      "         [0.2863, 0.2980, 0.3176,  ..., 0.4275, 0.4157, 0.4039],\n",
      "         [0.5176, 0.4745, 0.5137,  ..., 0.4392, 0.4235, 0.4157],\n",
      "         ...,\n",
      "         [0.7529, 0.7451, 0.7490,  ..., 0.3843, 0.3882, 0.4000],\n",
      "         [0.7490, 0.7412, 0.7529,  ..., 0.3765, 0.3412, 0.3333],\n",
      "         [0.7333, 0.7294, 0.7608,  ..., 0.3529, 0.3333, 0.3020]],\n",
      "\n",
      "        [[0.2667, 0.3216, 0.3255,  ..., 0.3137, 0.3020, 0.2941],\n",
      "         [0.2471, 0.2667, 0.2784,  ..., 0.3216, 0.3098, 0.2980],\n",
      "         [0.4353, 0.4000, 0.4353,  ..., 0.3255, 0.3137, 0.3020],\n",
      "         ...,\n",
      "         [0.6941, 0.6824, 0.6745,  ..., 0.3216, 0.3255, 0.3373],\n",
      "         [0.6902, 0.6745, 0.6941,  ..., 0.3176, 0.2784, 0.2706],\n",
      "         [0.6745, 0.6667, 0.7137,  ..., 0.2941, 0.2706, 0.2392]]])\n",
      "bird\n"
     ]
    },
    {
     "data": {
      "image/png": "[encoded data removed]",
      "text/plain": [
       "<Figure size 640x480 with 1 Axes>"
      ]
     },
     "metadata": {},
     "output_type": "display_data"
    }
   ],
   "source": [
    "train_dataset = CustomDataset(train_DT)\n",
    "test_dataset = CustomDataset(test_DT)\n",
    "\n",
    "train_dataloader = DataLoader(dataset=train_dataset, batch_size=64, shuffle=True, drop_last=True)\n",
    "test_dataloader = DataLoader(dataset=test_dataset, batch_size=64, shuffle=True, drop_last=True)\n",
    "\n",
    "for x, y in train_dataloader:\n",
    "    print(x.shape, y.shape)\n",
    "    print(x[0])\n",
    "    plt.imshow(x[0].permute(1, 2, 0))\n",
    "    print(IDX_TO_CLASS[int(y[0])])\n",
    "    break"
   ]
  },
  {
   "cell_type": "code",
   "execution_count": 82,
   "metadata": {},
   "outputs": [],
   "source": [
    "class MLP(nn.Module):\n",
    "    def __init__(self):\n",
    "        super().__init__()\n",
    "        \n",
    "        self.layer1 = nn.Sequential(\n",
    "            nn.Linear(3*32*32, 100),\n",
    "            nn.ReLU()\n",
    "        )\n",
    "\n",
    "        self.layer2 = nn.Sequential(\n",
    "            nn.Linear(100, 10)\n",
    "        )\n",
    "    \n",
    "    def forward(self, x):\n",
    "        x = torch.flatten(x, start_dim=1)\n",
    "        x = self.layer1(x)\n",
    "        x = self.layer2(x)\n",
    "        return x"
   ]
  },
  {
   "cell_type": "code",
   "execution_count": 109,
   "metadata": {},
   "outputs": [
    {
     "name": "stdout",
     "output_type": "stream",
     "text": [
      "Epoch: 10   Loss:1.5449293851852417\n",
      "Epoch: 20   Loss:1.487446904182434\n",
      "Epoch: 30   Loss:1.459074854850769\n",
      "Epoch: 40   Loss:1.4367457628250122\n",
      "Epoch: 50   Loss:1.4190566539764404\n",
      "Epoch: 60   Loss:1.4048669338226318\n",
      "Epoch: 70   Loss:1.3948982954025269\n",
      "Epoch: 80   Loss:1.3823423385620117\n",
      "Epoch: 90   Loss:1.3742623329162598\n",
      "Epoch:100   Loss:1.363287329673767\n",
      "Epoch:110   Loss:1.3583455085754395\n",
      "Epoch:120   Loss:1.3504210710525513\n",
      "Epoch:130   Loss:1.341563105583191\n",
      "Epoch:140   Loss:1.3370000123977661\n",
      "Epoch:150   Loss:1.3269233703613281\n",
      "Epoch:160   Loss:1.3247450590133667\n",
      "Epoch:170   Loss:1.3180181980133057\n",
      "Epoch:180   Loss:1.313679575920105\n",
      "Epoch:190   Loss:1.3068350553512573\n",
      "Epoch:200   Loss:1.3012621402740479\n",
      "Epoch:210   Loss:1.2994967699050903\n",
      "Epoch:220   Loss:1.2908512353897095\n",
      "Epoch:230   Loss:1.289064884185791\n",
      "Epoch:240   Loss:1.286436676979065\n",
      "Epoch:250   Loss:1.2834653854370117\n",
      "Epoch:260   Loss:1.2794034481048584\n",
      "Epoch:270   Loss:1.2795660495758057\n",
      "Epoch:280   Loss:1.2737828493118286\n",
      "Epoch:290   Loss:1.2699594497680664\n",
      "Epoch:300   Loss:1.2648218870162964\n"
     ]
    }
   ],
   "source": [
    "device = 'cuda' if torch.cuda.is_available() else 'cpu'\n",
    "\n",
    "model = MLP().to(device)\n",
    "criterion = nn.CrossEntropyLoss().to(device)\n",
    "optimizer = optim.Adam(params=model.parameters(), lr=0.001)\n",
    "\n",
    "model.train()\n",
    "\n",
    "for epoch in range(300):\n",
    "    cost = 0.0\n",
    "\n",
    "    for x, y in train_dataloader:\n",
    "        x = x.to(device)\n",
    "        y = y.to(device)\n",
    "\n",
    "        output = model(x)\n",
    "        loss = criterion(output, y)\n",
    "\n",
    "        optimizer.zero_grad()\n",
    "        loss.backward()\n",
    "        optimizer.step()\n",
    "\n",
    "        cost += loss\n",
    "    \n",
    "    cost = cost / len(train_dataloader)\n",
    "\n",
    "    if (epoch+1)%10 == 0:\n",
    "        print(f'Epoch:{epoch+1:3}   Loss:{cost}')\n",
    "    "
   ]
  },
  {
   "cell_type": "code",
   "execution_count": 110,
   "metadata": {},
   "outputs": [
    {
     "name": "stdout",
     "output_type": "stream",
     "text": [
      "Correct  : 4508\n",
      "Wrong    : 5476\n",
      "Accuracy : 45.15%\n"
     ]
    }
   ],
   "source": [
    "correct = 0\n",
    "wrong = 0\n",
    "\n",
    "with torch.no_grad():\n",
    "    model.eval()\n",
    "\n",
    "    for x, y in test_dataloader:\n",
    "        x = x.to(device)\n",
    "        y = y.to(device)\n",
    "\n",
    "        output = model(x)\n",
    "        pred_y = torch.argmax(output, dim=1)\n",
    "        \n",
    "        for idx in range(len(output)):\n",
    "            if y[idx] == pred_y[idx]:\n",
    "                correct += 1\n",
    "            else:\n",
    "                wrong += 1\n",
    "\n",
    "print(f'Correct  : {correct}')\n",
    "print(f'Wrong    : {wrong}')\n",
    "print(f'Accuracy : {round(correct/(correct+wrong)*100, 2)}%')"
   ]
  },
  {
   "cell_type": "code",
   "execution_count": 111,
   "metadata": {},
   "outputs": [
    {
     "name": "stdout",
     "output_type": "stream",
     "text": [
      "tensor([[[1.0000, 1.0000, 1.0000,  ..., 0.8863, 0.8784, 0.8745],\n",
      "         [0.9922, 0.9961, 1.0000,  ..., 0.8824, 0.8784, 0.8745],\n",
      "         [0.9922, 1.0000, 1.0000,  ..., 0.8941, 0.8902, 0.8824],\n",
      "         ...,\n",
      "         [0.6549, 0.6588, 0.6627,  ..., 0.4157, 0.4157, 0.4235],\n",
      "         [0.5137, 0.4510, 0.5020,  ..., 0.3529, 0.3608, 0.3765],\n",
      "         [0.4745, 0.3882, 0.4392,  ..., 0.3843, 0.3882, 0.3961]],\n",
      "\n",
      "        [[1.0000, 1.0000, 1.0000,  ..., 0.8902, 0.8824, 0.8745],\n",
      "         [0.9922, 0.9961, 1.0000,  ..., 0.8863, 0.8784, 0.8745],\n",
      "         [0.9922, 1.0000, 1.0000,  ..., 0.8980, 0.8902, 0.8824],\n",
      "         ...,\n",
      "         [0.6588, 0.6627, 0.6667,  ..., 0.3961, 0.3961, 0.4039],\n",
      "         [0.4784, 0.4157, 0.4667,  ..., 0.3294, 0.3373, 0.3529],\n",
      "         [0.4549, 0.3725, 0.4196,  ..., 0.3529, 0.3529, 0.3608]],\n",
      "\n",
      "        [[1.0000, 1.0000, 1.0000,  ..., 0.8706, 0.8706, 0.8667],\n",
      "         [0.9922, 0.9961, 1.0000,  ..., 0.8667, 0.8706, 0.8667],\n",
      "         [0.9922, 1.0000, 1.0000,  ..., 0.8784, 0.8784, 0.8745],\n",
      "         ...,\n",
      "         [0.6706, 0.6706, 0.6784,  ..., 0.2941, 0.2902, 0.2941],\n",
      "         [0.3961, 0.3333, 0.3843,  ..., 0.2039, 0.2196, 0.2353],\n",
      "         [0.3686, 0.2863, 0.3333,  ..., 0.2196, 0.2275, 0.2392]]])\n",
      "tensor([[[0.6196, 0.6000, 0.6039,  ..., 0.5922, 0.6078, 0.6314],\n",
      "         [0.6275, 0.6235, 0.6275,  ..., 0.5765, 0.5961, 0.6118],\n",
      "         [0.6078, 0.5882, 0.6039,  ..., 0.5647, 0.5804, 0.5922],\n",
      "         ...,\n",
      "         [0.7255, 0.7098, 0.6863,  ..., 0.6745, 0.6941, 0.6941],\n",
      "         [0.7059, 0.7059, 0.7020,  ..., 0.6902, 0.6863, 0.6980],\n",
      "         [0.6902, 0.7137, 0.7059,  ..., 0.6706, 0.6706, 0.6902]],\n",
      "\n",
      "        [[0.5725, 0.5569, 0.5569,  ..., 0.5569, 0.5725, 0.5961],\n",
      "         [0.5804, 0.5765, 0.5804,  ..., 0.5412, 0.5608, 0.5765],\n",
      "         [0.5608, 0.5451, 0.5569,  ..., 0.5294, 0.5451, 0.5569],\n",
      "         ...,\n",
      "         [0.6745, 0.6549, 0.6314,  ..., 0.6275, 0.6471, 0.6431],\n",
      "         [0.6510, 0.6510, 0.6471,  ..., 0.6431, 0.6392, 0.6471],\n",
      "         [0.6353, 0.6588, 0.6510,  ..., 0.6275, 0.6235, 0.6431]],\n",
      "\n",
      "        [[0.4275, 0.4078, 0.4118,  ..., 0.4000, 0.4118, 0.4392],\n",
      "         [0.4314, 0.4275, 0.4314,  ..., 0.3804, 0.4000, 0.4196],\n",
      "         [0.4118, 0.3961, 0.4078,  ..., 0.3686, 0.3843, 0.4000],\n",
      "         ...,\n",
      "         [0.5098, 0.5059, 0.4902,  ..., 0.4824, 0.4980, 0.4980],\n",
      "         [0.5020, 0.5020, 0.4980,  ..., 0.4941, 0.4902, 0.4980],\n",
      "         [0.4941, 0.5137, 0.5020,  ..., 0.4784, 0.4784, 0.4980]]])\n"
     ]
    }
   ],
   "source": [
    "for x, y in test_dataloader:\n",
    "    print(x[0])\n",
    "    break\n",
    "\n",
    "for x, y in train_dataloader:\n",
    "    print(x[0])\n",
    "    break"
   ]
  },
  {
   "cell_type": "code",
   "execution_count": null,
   "metadata": {},
   "outputs": [],
   "source": []
  }
 ],
 "metadata": {
  "kernelspec": {
   "display_name": "pytorch",
   "language": "python",
   "name": "condatest"
  },
  "language_info": {
   "codemirror_mode": {
    "name": "ipython",
    "version": 3
   },
   "file_extension": ".py",
   "mimetype": "text/x-python",
   "name": "python",
   "nbconvert_exporter": "python",
   "pygments_lexer": "ipython3",
   "version": "3.12.2"
  }
 },
 "nbformat": 4,
 "nbformat_minor": 2
}
