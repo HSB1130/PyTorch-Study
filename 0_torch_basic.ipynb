{
 "cells": [
  {
   "cell_type": "markdown",
   "metadata": {},
   "source": [
    "### numpy와 닮은 pytorch"
   ]
  },
  {
   "cell_type": "code",
   "execution_count": 8,
   "metadata": {},
   "outputs": [
    {
     "name": "stdout",
     "output_type": "stream",
     "text": [
      "tensor([1, 2, 3, 4])\n",
      "<class 'torch.Tensor'>\n",
      "torch.Size([4])\n",
      "torch.int64 \n",
      "\n",
      "tensor([1., 2., 3., 4.])\n",
      "torch.float32\n"
     ]
    }
   ],
   "source": [
    "import torch\n",
    "\n",
    "arr_1 = torch.tensor([1, 2, 3, 4])\n",
    "print(arr_1)\n",
    "print(type(arr_1))\n",
    "print(arr_1.shape)\n",
    "print(arr_1.dtype, '\\n')\n",
    "\n",
    "arr_2 = torch.tensor([1.0, 2, 3, 4])\n",
    "print(arr_2)\n",
    "print(arr_2.dtype)"
   ]
  },
  {
   "cell_type": "code",
   "execution_count": 16,
   "metadata": {},
   "outputs": [
    {
     "name": "stdout",
     "output_type": "stream",
     "text": [
      "tensor([[1, 2, 3],\n",
      "        [4, 5, 6]])\n",
      "torch.Size([2, 3])\n",
      "6\n",
      "2\n",
      "torch.int64\n"
     ]
    }
   ],
   "source": [
    "import torch\n",
    "\n",
    "arr_1 = torch.tensor([[1, 2, 3], [4, 5, 6]])\n",
    "print(arr_1)\n",
    "print(arr_1.shape)\n",
    "print(arr_1.numel()) # 전체 성분의 개수\n",
    "print(arr_1.ndim) # 차원의 크기\n",
    "print(arr_1.dtype)"
   ]
  },
  {
   "cell_type": "code",
   "execution_count": 19,
   "metadata": {},
   "outputs": [
    {
     "name": "stdout",
     "output_type": "stream",
     "text": [
      "tensor([0., 0., 0., 0., 0.])\n",
      "tensor([[0, 0, 0],\n",
      "        [0, 0, 0]]) \n",
      "\n",
      "tensor([1., 1., 1., 1., 1.])\n",
      "tensor([[1., 1., 1.],\n",
      "        [1., 1., 1.]]) \n",
      "\n",
      "tensor([3, 5, 7, 9])\n",
      "tensor([0.0000, 0.1000, 0.2000, 0.3000, 0.4000, 0.5000, 0.6000, 0.7000, 0.8000,\n",
      "        0.9000])\n"
     ]
    }
   ],
   "source": [
    "print(torch.zeros(5))\n",
    "print(torch.zeros_like(arr_1), '\\n')\n",
    "\n",
    "print(torch.ones(5))\n",
    "print(torch.ones((2, 3)), '\\n')\n",
    "\n",
    "print(torch.arange(3, 10, 2))\n",
    "print(torch.arange(0, 1, 0.1))"
   ]
  },
  {
   "cell_type": "code",
   "execution_count": 21,
   "metadata": {},
   "outputs": [
    {
     "name": "stdout",
     "output_type": "stream",
     "text": [
      "tensor([5, 7, 9])\n"
     ]
    }
   ],
   "source": [
    "arr_1 = torch.tensor([1, 2, 3])\n",
    "arr_2 = torch.tensor([4, 5, 6])\n",
    "print(arr_1 + arr_2)"
   ]
  },
  {
   "cell_type": "code",
   "execution_count": 22,
   "metadata": {},
   "outputs": [
    {
     "name": "stdout",
     "output_type": "stream",
     "text": [
      "tensor([[5, 7, 9],\n",
      "        [5, 7, 9]])\n",
      "tensor([[-3, -3, -3],\n",
      "        [-3, -3, -3]])\n",
      "tensor([[ 4, 10, 18],\n",
      "        [ 4, 10, 18]])\n",
      "tensor([[0.2500, 0.4000, 0.5000],\n",
      "        [0.2500, 0.4000, 0.5000]])\n",
      "tensor([[16, 25, 36],\n",
      "        [16, 25, 36]])\n"
     ]
    }
   ],
   "source": [
    "arr_1 = torch.tensor([[1, 2, 3], [1, 2, 3]])\n",
    "arr_2 = torch.tensor([[4, 5, 6], [4, 5, 6]])\n",
    "\n",
    "print(arr_1 + arr_2)\n",
    "print(arr_1 - arr_2)\n",
    "print(arr_1 * arr_2)\n",
    "print(arr_1 / arr_2)\n",
    "print(arr_2**2)"
   ]
  },
  {
   "cell_type": "code",
   "execution_count": 23,
   "metadata": {},
   "outputs": [
    {
     "name": "stdout",
     "output_type": "stream",
     "text": [
      "tensor([[ 1,  4],\n",
      "        [ 9, 16]])\n",
      "tensor([[ 7, 10],\n",
      "        [15, 22]])\n",
      "tensor([[ 7, 10],\n",
      "        [15, 22]])\n"
     ]
    }
   ],
   "source": [
    "arr1 = torch.tensor([[1,2], [3,4]])\n",
    "arr2 = torch.tensor([[1,2], [3,4]])\n",
    "\n",
    "print(arr1*arr2)\n",
    "print(arr1@arr2) # 진짜 행렬 곱\n",
    "print(torch.matmul(arr1, arr2)) # 행렬 곱"
   ]
  },
  {
   "cell_type": "code",
   "execution_count": 24,
   "metadata": {},
   "outputs": [
    {
     "name": "stdout",
     "output_type": "stream",
     "text": [
      "tensor([1, 2, 3, 4, 5, 6, 7, 8, 9])\n",
      "tensor(9)\n",
      "tensor([2, 3, 4])\n",
      "tensor([8, 9])\n",
      "tensor([1, 2, 3, 4, 5, 6, 7])\n",
      "tensor([1, 2, 3, 4, 5, 6, 7, 8, 9])\n"
     ]
    }
   ],
   "source": [
    "arr = torch.tensor([1,2,3,4,5,6,7,8,9])\n",
    "\n",
    "print(arr)\n",
    "print(arr[-1])\n",
    "print(arr[1:4])\n",
    "print(arr[7:])\n",
    "print(arr[:7])\n",
    "print(arr[:])"
   ]
  },
  {
   "cell_type": "code",
   "execution_count": 35,
   "metadata": {},
   "outputs": [
    {
     "name": "stdout",
     "output_type": "stream",
     "text": [
      "tensor([[2, 3],\n",
      "        [5, 6]])\n",
      "tensor([[4, 5],\n",
      "        [7, 8]])\n",
      "tensor([3, 6, 9])\n"
     ]
    }
   ],
   "source": [
    "arr = torch.tensor([[1, 2, 3], \n",
    "                    [4, 5, 6], \n",
    "                    [7, 8, 9]])\n",
    "\n",
    "print(arr[:2, 1:3])\n",
    "print(arr[1:, 0:2])\n",
    "print(arr[:, 2])"
   ]
  },
  {
   "cell_type": "code",
   "execution_count": 37,
   "metadata": {},
   "outputs": [
    {
     "name": "stdout",
     "output_type": "stream",
     "text": [
      "tensor([[[ 0,  1,  2,  3],\n",
      "         [ 4,  5,  6,  7],\n",
      "         [ 8,  9, 10, 11]],\n",
      "\n",
      "        [[12, 13, 14, 15],\n",
      "         [16, 17, 18, 19],\n",
      "         [20, 21, 22, 23]]])\n",
      "torch.Size([2, 3, 4])\n",
      "tensor([[[4, 5],\n",
      "         [8, 9]]])\n"
     ]
    }
   ],
   "source": [
    "arr = torch.tensor([[[0, 1, 2, 3], [4, 5, 6, 7], [8, 9, 10, 11]], \n",
    "                    [[12, 13, 14, 15], [16, 17, 18, 19], [20, 21, 22, 23]]])\n",
    "\n",
    "print(arr)\n",
    "print(arr.shape)\n",
    "print(arr[:1, 1:3, :2])"
   ]
  },
  {
   "cell_type": "code",
   "execution_count": 41,
   "metadata": {},
   "outputs": [
    {
     "name": "stdout",
     "output_type": "stream",
     "text": [
      "tensor([[False, False,  True, False],\n",
      "        [False,  True, False,  True]])\n",
      "tensor([3, 3, 3])\n",
      "tensor([[  1,   2, 100,   4],\n",
      "        [  5, 100,   7, 100]])\n"
     ]
    }
   ],
   "source": [
    "# boolean indexing\n",
    "arr = torch.tensor([[1,2,3,4], [5,3,7,3]])\n",
    "\n",
    "print(arr==3)\n",
    "print(arr[arr==3])\n",
    "\n",
    "# 3인 성분이 100으로 바뀜\n",
    "arr[arr==3] = 100\n",
    "print(arr)"
   ]
  },
  {
   "cell_type": "markdown",
   "metadata": {},
   "source": [
    "### Pytorch의 여러 함수들"
   ]
  },
  {
   "cell_type": "code",
   "execution_count": 43,
   "metadata": {},
   "outputs": [
    {
     "name": "stdout",
     "output_type": "stream",
     "text": [
      "tensor([[ 1.1895, -1.0632,  1.2350],\n",
      "        [ 0.2575, -0.6246,  0.9746],\n",
      "        [ 0.9691,  0.3443, -1.2394]])\n",
      "tensor([[0.7537, 0.7286, 0.2977],\n",
      "        [0.8097, 0.9797, 0.5920],\n",
      "        [0.0657, 0.0413, 0.7726]])\n"
     ]
    }
   ],
   "source": [
    "arr_1 = torch.randn(3, 3) # 정규분포로 랜덤 값 생성\n",
    "arr_2 = torch.rand(3, 3) # 0~1 사이를 균일분포로 랜덤 값 생성\n",
    "\n",
    "print(arr_1)\n",
    "print(arr_2)"
   ]
  },
  {
   "cell_type": "code",
   "execution_count": 46,
   "metadata": {},
   "outputs": [
    {
     "name": "stdout",
     "output_type": "stream",
     "text": [
      "tensor([[-1.8099, -0.1103, -0.0494],\n",
      "        [ 1.6108,  0.6934, -0.8672]])\n",
      "tensor([[1.8099, 0.1103, 0.0494],\n",
      "        [1.6108, 0.6934, 0.8672]])\n",
      "tensor([[1.3453, 0.3320, 0.2222],\n",
      "        [1.2692, 0.8327, 0.9312]])\n"
     ]
    }
   ],
   "source": [
    "arr = torch.randn(2, 3)\n",
    "\n",
    "print(arr)\n",
    "print(torch.abs(arr))\n",
    "print(torch.sqrt(torch.abs(arr)))"
   ]
  },
  {
   "cell_type": "code",
   "execution_count": 48,
   "metadata": {},
   "outputs": [
    {
     "name": "stdout",
     "output_type": "stream",
     "text": [
      "tensor([[-2.3371,  1.2128, -1.4655],\n",
      "        [ 0.6913, -0.7069, -1.5811]])\n",
      "tensor(1)\n"
     ]
    }
   ],
   "source": [
    "arr = torch.randn(2, 3)\n",
    "print(arr)\n",
    "print(torch.argmax(arr)) # 가장 큰 요소가 있는 index를 출력하라"
   ]
  },
  {
   "cell_type": "code",
   "execution_count": 55,
   "metadata": {},
   "outputs": [
    {
     "name": "stdout",
     "output_type": "stream",
     "text": [
      "tensor([[-1.7716, -0.8756,  0.2048, -0.8494],\n",
      "        [ 1.3788, -0.6281,  0.6195,  0.3631],\n",
      "        [-0.1620, -0.1821,  0.1285,  1.6756]])\n",
      "tensor(1.6756)\n",
      "\n",
      "torch.return_types.max(\n",
      "values=tensor([ 1.3788, -0.1821,  0.6195,  1.6756]),\n",
      "indices=tensor([1, 2, 1, 2]))\n",
      "\n",
      "torch.return_types.max(\n",
      "values=tensor([0.2048, 1.3788, 1.6756]),\n",
      "indices=tensor([2, 0, 3]))\n",
      "\n",
      "torch.return_types.max(\n",
      "values=tensor([[0.2048],\n",
      "        [1.3788],\n",
      "        [1.6756]]),\n",
      "indices=tensor([[2],\n",
      "        [0],\n",
      "        [3]]))\n",
      "\n",
      "tensor(1.6756)\n",
      "\n",
      "torch.return_types.max(\n",
      "values=tensor([ 1.3788, -0.1821,  0.6195,  1.6756]),\n",
      "indices=tensor([1, 2, 1, 2]))\n",
      "\n",
      "torch.return_types.max(\n",
      "values=tensor([0.2048, 1.3788, 1.6756]),\n",
      "indices=tensor([2, 0, 3]))\n",
      "\n",
      "torch.return_types.max(\n",
      "values=tensor([[0.2048],\n",
      "        [1.3788],\n",
      "        [1.6756]]),\n",
      "indices=tensor([[2],\n",
      "        [0],\n",
      "        [3]]))\n",
      "\n"
     ]
    }
   ],
   "source": [
    "arr = torch.randn(3, 4)\n",
    "\n",
    "print(arr)\n",
    "print(torch.max(arr), end='\\n\\n')\n",
    "print(torch.max(arr, dim=0), end='\\n\\n')\n",
    "print(torch.max(arr, dim=1), end='\\n\\n')\n",
    "print(torch.max(arr, dim=1, keepdim=True), end='\\n\\n')\n",
    "\n",
    "print(arr.max(), end='\\n\\n')\n",
    "print(arr.max(dim=0), end='\\n\\n')\n",
    "print(arr.max(dim=1), end='\\n\\n')\n",
    "print(arr.max(dim=1, keepdim=True), end='\\n\\n')"
   ]
  },
  {
   "cell_type": "code",
   "execution_count": 57,
   "metadata": {},
   "outputs": [
    {
     "name": "stdout",
     "output_type": "stream",
     "text": [
      "tensor([ 0.8400,  0.8497, -1.4448, -0.9304, -1.4785,  1.2500, -1.1463,  1.6735,\n",
      "        -1.5581, -0.5516,  0.7348,  2.4482])\n",
      "torch.Size([12])\n",
      "tensor([[[ 0.8400,  0.8497],\n",
      "         [-1.4448, -0.9304],\n",
      "         [-1.4785,  1.2500]],\n",
      "\n",
      "        [[-1.1463,  1.6735],\n",
      "         [-1.5581, -0.5516],\n",
      "         [ 0.7348,  2.4482]]])\n",
      "torch.Size([2, 3, 2])\n"
     ]
    }
   ],
   "source": [
    "arr = torch.randn(12,)\n",
    "\n",
    "print(arr)\n",
    "print(arr.shape)\n",
    "\n",
    "arr = arr.reshape(2, 3, 2)\n",
    "print(arr)\n",
    "print(arr.shape)"
   ]
  },
  {
   "cell_type": "code",
   "execution_count": 58,
   "metadata": {},
   "outputs": [
    {
     "name": "stdout",
     "output_type": "stream",
     "text": [
      "tensor([[20]])\n"
     ]
    }
   ],
   "source": [
    "arr1 = torch.tensor([1, 2, 3])\n",
    "arr2 = torch.tensor([2, 3, 4])\n",
    "\n",
    "arr1 = arr1.reshape(3, 1)\n",
    "arr2 = arr2.reshape(3, 1)\n",
    "\n",
    "print(torch.matmul(arr1.T, arr2))"
   ]
  },
  {
   "cell_type": "markdown",
   "metadata": {},
   "source": [
    "### torch <-> numpy"
   ]
  },
  {
   "cell_type": "code",
   "execution_count": 59,
   "metadata": {},
   "outputs": [
    {
     "name": "stdout",
     "output_type": "stream",
     "text": [
      "tensor([1, 2, 3], dtype=torch.int32)\n",
      "<class 'torch.Tensor'>\n",
      "[4 5 6]\n",
      "<class 'numpy.ndarray'>\n"
     ]
    }
   ],
   "source": [
    "import numpy as np\n",
    "import torch\n",
    "\n",
    "a = np.array([1, 2, 3])\n",
    "b = torch.tensor([4, 5, 6])\n",
    "\n",
    "torch_a = torch.tensor(a)\n",
    "print(torch_a)\n",
    "print(type(torch_a))\n",
    "\n",
    "np_b = b.numpy()\n",
    "print(np_b)\n",
    "print(type(np_b))"
   ]
  }
 ],
 "metadata": {
  "kernelspec": {
   "display_name": "pytorch",
   "language": "python",
   "name": "python3"
  },
  "language_info": {
   "codemirror_mode": {
    "name": "ipython",
    "version": 3
   },
   "file_extension": ".py",
   "mimetype": "text/x-python",
   "name": "python",
   "nbconvert_exporter": "python",
   "pygments_lexer": "ipython3",
   "version": "3.12.2"
  }
 },
 "nbformat": 4,
 "nbformat_minor": 2
}
